{
 "cells": [
  {
   "cell_type": "code",
   "execution_count": 1,
   "metadata": {},
   "outputs": [],
   "source": [
    "import numpy as np\n",
    "import matplotlib.pyplot as plt\n",
    "import tensorflow as tf\n",
    "%matplotlib inline"
   ]
  },
  {
   "cell_type": "code",
   "execution_count": 2,
   "metadata": {},
   "outputs": [],
   "source": [
    "from tensorflow.examples.tutorials.mnist import input_data"
   ]
  },
  {
   "cell_type": "code",
   "execution_count": 3,
   "metadata": {},
   "outputs": [
    {
     "name": "stdout",
     "output_type": "stream",
     "text": [
      "Extracting MNIST_Data/train-images-idx3-ubyte.gz\n",
      "Extracting MNIST_Data/train-labels-idx1-ubyte.gz\n",
      "Extracting MNIST_Data/t10k-images-idx3-ubyte.gz\n",
      "Extracting MNIST_Data/t10k-labels-idx1-ubyte.gz\n"
     ]
    }
   ],
   "source": [
    "mnist = input_data.read_data_sets(\"MNIST_Data/\", one_hot=True)"
   ]
  },
  {
   "cell_type": "markdown",
   "metadata": {},
   "source": [
    "# Making the TensorFlow based CNN Complete Model"
   ]
  },
  {
   "cell_type": "markdown",
   "metadata": {},
   "source": [
    "## Making the Helper Functions"
   ]
  },
  {
   "cell_type": "code",
   "execution_count": 12,
   "metadata": {},
   "outputs": [],
   "source": [
    "def init_weights(shape):\n",
    "    init_random = tf.truncated_normal(shape, stddev=0.1)\n",
    "    return tf.Variable(init_random)"
   ]
  },
  {
   "cell_type": "code",
   "execution_count": 13,
   "metadata": {},
   "outputs": [],
   "source": [
    "def init_bias(shape):\n",
    "    init_bias_vals = tf.constant(1.0, shape = shape)\n",
    "    return tf.Variable(init_bias_vals)"
   ]
  },
  {
   "cell_type": "markdown",
   "metadata": {},
   "source": [
    "## Defining the Convolution functions"
   ]
  },
  {
   "cell_type": "code",
   "execution_count": 14,
   "metadata": {},
   "outputs": [],
   "source": [
    "def Conv2D(x,W):\n",
    "    return tf.nn.conv2d(input=x,filter=W,strides=(1,1,1,1),padding=\"SAME\", use_cudnn_on_gpu=True)"
   ]
  },
  {
   "cell_type": "code",
   "execution_count": 15,
   "metadata": {},
   "outputs": [],
   "source": [
    "def Pool2D(x):\n",
    "    return tf.nn.max_pool(x,ksize=(1,2,2,1), strides=(1,2,2,1), padding=\"SAME\")"
   ]
  },
  {
   "cell_type": "markdown",
   "metadata": {},
   "source": [
    "## Making the Convolutional Layers"
   ]
  },
  {
   "cell_type": "code",
   "execution_count": 16,
   "metadata": {},
   "outputs": [],
   "source": [
    "def Convolutional_layer(input_x, shape):\n",
    "    W = init_weights(shape)\n",
    "    c = init_bias([shape[3]])\n",
    "    return tf.nn.relu(Conv2D(input_x,W) + c)"
   ]
  },
  {
   "cell_type": "markdown",
   "metadata": {},
   "source": [
    "## Defining the Fully-Connected Layer"
   ]
  },
  {
   "cell_type": "code",
   "execution_count": 19,
   "metadata": {},
   "outputs": [],
   "source": [
    "def full_layer(input_x, size):\n",
    "    input_size = int(input_x.get_shape()[1])\n",
    "    W = init_weights([input_size,size])\n",
    "    c = init_bias([size])\n",
    "    return tf.add(tf.matmul(input_x,W),c)"
   ]
  },
  {
   "cell_type": "markdown",
   "metadata": {},
   "source": [
    "## Making the Final layers"
   ]
  },
  {
   "cell_type": "code",
   "execution_count": 20,
   "metadata": {},
   "outputs": [],
   "source": [
    "# Making the placeholders\n",
    "x = tf.placeholder(tf.float32, shape=[None,784])\n",
    "y_true = tf.placeholder(tf.float32, shape=[None,10])\n",
    "\n",
    "\n",
    "x_image = tf.reshape(x,[-1,28,28,1])\n",
    "\n",
    "conv_1 = Convolutional_layer(x_image,shape=[5,5,1,32])\n",
    "conv_1_pooling = Pool2D(conv_1)\n",
    "\n",
    "conv_2 = Convolutional_layer(conv_1_pooling,shape = [5,5,32,64])\n",
    "conv_2_pooling = Pool2D(conv_2)\n",
    "\n",
    "# Prepare to feed the output of convolution layers to Fully-connected ANN architecture\n",
    "conv_flatten_layer = tf.reshape(conv_2_pooling,shape=(-1,7*7*64))\n",
    "full_layer_one = tf.nn.relu(full_layer(conv_flatten_layer,size = 1024))\n"
   ]
  },
  {
   "cell_type": "code",
   "execution_count": 21,
   "metadata": {},
   "outputs": [],
   "source": [
    "# Dropout Layer\n",
    "hold_prob = tf.placeholder(tf.float32)\n",
    "full_layer_dropout = tf.nn.dropout(full_layer_one,keep_prob=hold_prob)\n",
    "\n",
    "y_pred = full_layer(full_layer_dropout,size=10)"
   ]
  },
  {
   "cell_type": "markdown",
   "metadata": {},
   "source": [
    "# Making the Loss Functions and initialization of the Model"
   ]
  },
  {
   "cell_type": "code",
   "execution_count": 22,
   "metadata": {},
   "outputs": [],
   "source": [
    "# Loss Function\n",
    "cross_entropy = tf.reduce_mean(tf.nn.softmax_cross_entropy_with_logits(labels=y_true, logits=y_pred))\n",
    "\n",
    "# optimizer\n",
    "optimizer = tf.train.AdamOptimizer(learning_rate=0.001)\n",
    "\n",
    "# trainer\n",
    "train = optimizer.minimize(cross_entropy)"
   ]
  },
  {
   "cell_type": "code",
   "execution_count": 23,
   "metadata": {},
   "outputs": [],
   "source": [
    "# Running the session\n",
    "init = tf.global_variables_initializer()"
   ]
  },
  {
   "cell_type": "code",
   "execution_count": 24,
   "metadata": {},
   "outputs": [
    {
     "name": "stdout",
     "output_type": "stream",
     "text": [
      "On Step: 0\n",
      "Acuuracy is : \n",
      "0.0892\n",
      "\n",
      "\n",
      "On Step: 100\n",
      "Acuuracy is : \n",
      "0.731\n",
      "\n",
      "\n",
      "On Step: 200\n",
      "Acuuracy is : \n",
      "0.8725\n",
      "\n",
      "\n",
      "On Step: 300\n",
      "Acuuracy is : \n",
      "0.8904\n",
      "\n",
      "\n",
      "On Step: 400\n",
      "Acuuracy is : \n",
      "0.9067\n",
      "\n",
      "\n",
      "On Step: 500\n",
      "Acuuracy is : \n",
      "0.9245\n",
      "\n",
      "\n",
      "On Step: 600\n",
      "Acuuracy is : \n",
      "0.9226\n",
      "\n",
      "\n",
      "On Step: 700\n",
      "Acuuracy is : \n",
      "0.9308\n",
      "\n",
      "\n",
      "On Step: 800\n",
      "Acuuracy is : \n",
      "0.927\n",
      "\n",
      "\n",
      "On Step: 900\n",
      "Acuuracy is : \n",
      "0.9371\n",
      "\n",
      "\n"
     ]
    }
   ],
   "source": [
    "with tf.Session() as sess:\n",
    "    sess.run(init)\n",
    "    steps = 1000\n",
    "    for i in range(steps):\n",
    "        batch_x, batch_y = mnist.train.next_batch(44)\n",
    "        sess.run(train, feed_dict = { y_true:batch_y, x:batch_x, hold_prob:0.5})\n",
    "        \n",
    "        if i%100==0:\n",
    "            print(\"On Step: {}\".format(i))\n",
    "            print(\"Acuuracy is : \")\n",
    "            \n",
    "            matches = tf.equal(tf.argmax(y_pred,1), tf.argmax(y_true,1))\n",
    "            acc = tf.reduce_mean(tf.cast(matches,dtype=tf.float32))\n",
    "            \n",
    "            print(sess.run(acc, feed_dict={y_true:mnist.test.labels, x:mnist.test.images, hold_prob:1.0}))\n",
    "            print(\"\\n\")"
   ]
  },
  {
   "cell_type": "code",
   "execution_count": null,
   "metadata": {},
   "outputs": [],
   "source": []
  }
 ],
 "metadata": {
  "kernelspec": {
   "display_name": "Python 3",
   "language": "python",
   "name": "python3"
  },
  "language_info": {
   "codemirror_mode": {
    "name": "ipython",
    "version": 3
   },
   "file_extension": ".py",
   "mimetype": "text/x-python",
   "name": "python",
   "nbconvert_exporter": "python",
   "pygments_lexer": "ipython3",
   "version": "3.5.6"
  }
 },
 "nbformat": 4,
 "nbformat_minor": 2
}
