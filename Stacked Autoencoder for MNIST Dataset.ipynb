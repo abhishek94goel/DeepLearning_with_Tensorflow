{
 "cells": [
  {
   "cell_type": "code",
   "execution_count": 1,
   "metadata": {},
   "outputs": [],
   "source": [
    "import numpy as np\n",
    "import pandas as pd\n",
    "import matplotlib.pyplot as plt\n",
    "import tensorflow as tf\n",
    "%matplotlib inline"
   ]
  },
  {
   "cell_type": "code",
   "execution_count": 2,
   "metadata": {},
   "outputs": [],
   "source": [
    "from tensorflow.examples.tutorials.mnist import input_data"
   ]
  },
  {
   "cell_type": "code",
   "execution_count": 3,
   "metadata": {},
   "outputs": [
    {
     "name": "stdout",
     "output_type": "stream",
     "text": [
      "Extracting MNIST_Data/train-images-idx3-ubyte.gz\n",
      "Extracting MNIST_Data/train-labels-idx1-ubyte.gz\n",
      "Extracting MNIST_Data/t10k-images-idx3-ubyte.gz\n",
      "Extracting MNIST_Data/t10k-labels-idx1-ubyte.gz\n"
     ]
    }
   ],
   "source": [
    "mnist = input_data.read_data_sets(\"MNIST_Data/\",one_hot=True)"
   ]
  },
  {
   "cell_type": "code",
   "execution_count": 4,
   "metadata": {},
   "outputs": [],
   "source": [
    "# resetting the previous made graphs\n",
    "tf.reset_default_graph()"
   ]
  },
  {
   "cell_type": "markdown",
   "metadata": {},
   "source": [
    "# Designing the AutoEncoder"
   ]
  },
  {
   "cell_type": "code",
   "execution_count": 5,
   "metadata": {},
   "outputs": [
    {
     "data": {
      "text/plain": [
       "'\\nNumber of neurons will be as follows\\n784\\n392\\n196\\n392\\n784\\n'"
      ]
     },
     "execution_count": 5,
     "metadata": {},
     "output_type": "execute_result"
    }
   ],
   "source": [
    "\"\"\"\n",
    "Number of neurons will be as follows\n",
    "784\n",
    "392\n",
    "196\n",
    "392\n",
    "784\n",
    "\"\"\""
   ]
  },
  {
   "cell_type": "code",
   "execution_count": 6,
   "metadata": {},
   "outputs": [],
   "source": [
    "num_inputs = 784\n",
    "num_hidden1 = 392\n",
    "num_hidden2 = 196\n",
    "num_hidden3 = num_hidden1\n",
    "num_output = num_inputs"
   ]
  },
  {
   "cell_type": "code",
   "execution_count": 7,
   "metadata": {},
   "outputs": [],
   "source": [
    "# making the placeholder for the input data\n",
    "x = tf.placeholder(tf.float32,shape = (None, num_inputs))\n",
    "\n",
    "initializer = tf.variance_scaling_initializer()"
   ]
  },
  {
   "cell_type": "code",
   "execution_count": 9,
   "metadata": {},
   "outputs": [],
   "source": [
    "# defining the network variables and biases\n",
    "m1 = tf.Variable(initial_value=initializer(dtype=tf.float32,shape = (num_inputs,num_hidden1)))\n",
    "m2 = tf.Variable(initial_value=initializer(dtype=tf.float32,shape = (num_hidden1,num_hidden2)))\n",
    "m3 = tf.Variable(initial_value=initializer(dtype=tf.float32,shape = (num_hidden2,num_hidden3)))\n",
    "m4 = tf.Variable(initial_value=initializer(dtype=tf.float32,shape = (num_hidden3,num_output)))\n",
    "\n",
    "b1 = tf.Variable(initial_value=tf.constant(1.0,shape=([num_hidden1])))\n",
    "b2 = tf.Variable(initial_value=tf.constant(1.0,shape=([num_hidden2])))\n",
    "b3 = tf.Variable(initial_value=tf.constant(1.0,shape=([num_hidden3])))\n",
    "b4 = tf.Variable(initial_value=tf.constant(1.0,shape=([num_output])))"
   ]
  },
  {
   "cell_type": "code",
   "execution_count": 10,
   "metadata": {},
   "outputs": [],
   "source": [
    "# making the Graph\n",
    "hidden_layer1 = tf.nn.relu(tf.add(tf.matmul(x,m1),b1))\n",
    "hidden_layer2 = tf.nn.relu(tf.add(tf.matmul(hidden_layer1,m2),b2))\n",
    "hidden_layer3 = tf.nn.relu(tf.add(tf.matmul(hidden_layer2,m3),b3))\n",
    "output_layer = tf.nn.relu(tf.add(tf.matmul(hidden_layer3,m4),b4))"
   ]
  },
  {
   "cell_type": "code",
   "execution_count": 11,
   "metadata": {},
   "outputs": [],
   "source": [
    "# loss\n",
    "loss = tf.reduce_mean(tf.square(output_layer-x))\n",
    "\n",
    "optimizer = tf.train.AdamOptimizer(learning_rate=0.001)\n",
    "train = optimizer.minimize(loss)"
   ]
  },
  {
   "cell_type": "code",
   "execution_count": 13,
   "metadata": {},
   "outputs": [],
   "source": [
    "init = tf.global_variables_initializer()\n",
    "saver = tf.train.Saver()"
   ]
  },
  {
   "cell_type": "code",
   "execution_count": 15,
   "metadata": {},
   "outputs": [
    {
     "name": "stdout",
     "output_type": "stream",
     "text": [
      "Epoch no .0 Loss = 0.03475292772054672\n",
      "Epoch no .1 Loss = 0.023607658222317696\n",
      "Epoch no .2 Loss = 0.02171519584953785\n",
      "Epoch no .3 Loss = 0.019584255293011665\n",
      "Epoch no .4 Loss = 0.01793658174574375\n",
      "Epoch no .5 Loss = 0.017711086198687553\n",
      "Epoch no .6 Loss = 0.01719832792878151\n",
      "Epoch no .7 Loss = 0.016926683485507965\n",
      "Epoch no .8 Loss = 0.016824742779135704\n",
      "Epoch no .9 Loss = 0.01639268919825554\n",
      "Epoch no .10 Loss = 0.016309639438986778\n",
      "Epoch no .11 Loss = 0.016237858682870865\n",
      "Epoch no .12 Loss = 0.016195544973015785\n",
      "Epoch no .13 Loss = 0.01631016470491886\n",
      "Epoch no .14 Loss = 0.01589185930788517\n",
      "Epoch no .15 Loss = 0.015783635899424553\n",
      "Epoch no .16 Loss = 0.01562579721212387\n",
      "Epoch no .17 Loss = 0.0156229417771101\n",
      "Epoch no .18 Loss = 0.015655769035220146\n",
      "Epoch no .19 Loss = 0.015436225570738316\n",
      "Epoch no .20 Loss = 0.015492170117795467\n",
      "Epoch no .21 Loss = 0.0154656283557415\n",
      "Epoch no .22 Loss = 0.015551191754639149\n",
      "Epoch no .23 Loss = 0.015154345892369747\n",
      "Epoch no .24 Loss = 0.0151530671864748\n",
      "Epoch no .25 Loss = 0.015208371914923191\n",
      "Epoch no .26 Loss = 0.015128516592085361\n",
      "Epoch no .27 Loss = 0.015079861506819725\n",
      "Epoch no .28 Loss = 0.015024066902697086\n",
      "Epoch no .29 Loss = 0.014958075247704983\n",
      "Epoch no .30 Loss = 0.015035572461783886\n",
      "Epoch no .31 Loss = 0.014779875986278057\n",
      "Epoch no .32 Loss = 0.014795973896980286\n",
      "Epoch no .33 Loss = 0.014722573570907116\n",
      "Epoch no .34 Loss = 0.01471017487347126\n",
      "Epoch no .35 Loss = 0.014727158471941948\n",
      "Epoch no .36 Loss = 0.014660214073956013\n",
      "Epoch no .37 Loss = 0.014647122472524643\n",
      "Epoch no .38 Loss = 0.014711291529238224\n",
      "Epoch no .39 Loss = 0.014589167200028896\n",
      "Epoch no .40 Loss = 0.014606042765080929\n",
      "Epoch no .41 Loss = 0.014572232961654663\n",
      "Epoch no .42 Loss = 0.014300262555480003\n",
      "Epoch no .43 Loss = 0.014283734373748302\n"
     ]
    }
   ],
   "source": [
    "with tf.Session() as sess:\n",
    "    sess.run(init)\n",
    "    \n",
    "    num_epochs = 44\n",
    "    batch_size = 44\n",
    "    \n",
    "    for i in range(num_epochs):\n",
    "        num_batches = mnist.train.num_examples//batch_size\n",
    "        \n",
    "        for _ in range(num_batches):\n",
    "            batch_x, batch_y = mnist.train.next_batch(batch_size)\n",
    "            sess.run(train, feed_dict = {x:batch_x})\n",
    "        \n",
    "        training_loss = loss.eval(feed_dict={x:mnist.train.images})\n",
    "        print(\"Epoch no .{} Loss = {}\".format(i,training_loss))\n",
    "        \n",
    "    saver.save(sess,\"StackedAutoencoder_MNIST_Model/stacked_autoencoder.ckpt\")"
   ]
  },
  {
   "cell_type": "code",
   "execution_count": 21,
   "metadata": {},
   "outputs": [
    {
     "name": "stdout",
     "output_type": "stream",
     "text": [
      "INFO:tensorflow:Restoring parameters from StackedAutoencoder_MNIST_Model/stacked_autoencoder.ckpt\n"
     ]
    }
   ],
   "source": [
    "num_test_images = 10\n",
    "with tf.Session() as sess:\n",
    "    saver.restore(sess,\"StackedAutoencoder_MNIST_Model/stacked_autoencoder.ckpt\")\n",
    "    \n",
    "    results = output_layer.eval(feed_dict={x:mnist.test.images[:num_test_images,:]})"
   ]
  },
  {
   "cell_type": "code",
   "execution_count": 22,
   "metadata": {},
   "outputs": [
    {
     "data": {
      "text/plain": [
       "(10, 784)"
      ]
     },
     "execution_count": 22,
     "metadata": {},
     "output_type": "execute_result"
    }
   ],
   "source": [
    "results.shape"
   ]
  },
  {
   "cell_type": "code",
   "execution_count": 23,
   "metadata": {},
   "outputs": [
    {
     "data": {
      "image/png": "[encoded data removed]",
      "text/plain": [
       "<Figure size 1440x288 with 20 Axes>"
      ]
     },
     "metadata": {
      "needs_background": "light"
     },
     "output_type": "display_data"
    }
   ],
   "source": [
    "# Visualizing and Comparing the results\n",
    "f, a = plt.subplots(nrows=2,ncols=num_test_images, figsize=(20,4))\n",
    "\n",
    "for i in range(num_test_images):\n",
    "    a[0][i].imshow(np.reshape(mnist.test.images[i],newshape=(28,28)))\n",
    "    a[1][i].imshow(np.reshape(results[i],newshape=(28,28)))"
   ]
  },
  {
   "cell_type": "code",
   "execution_count": null,
   "metadata": {},
   "outputs": [],
   "source": []
  }
 ],
 "metadata": {
  "kernelspec": {
   "display_name": "Python 3",
   "language": "python",
   "name": "python3"
  },
  "language_info": {
   "codemirror_mode": {
    "name": "ipython",
    "version": 3
   },
   "file_extension": ".py",
   "mimetype": "text/x-python",
   "name": "python",
   "nbconvert_exporter": "python",
   "pygments_lexer": "ipython3",
   "version": "3.5.6"
  }
 },
 "nbformat": 4,
 "nbformat_minor": 2
}
