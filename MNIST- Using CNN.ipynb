{
 "cells": [
  {
   "cell_type": "code",
   "execution_count": 130,
   "metadata": {},
   "outputs": [],
   "source": [
    "import tensorflow as tf\n",
    "import matplotlib.pyplot as plt\n",
    "% matplotlib inline"
   ]
  },
  {
   "cell_type": "code",
   "execution_count": 82,
   "metadata": {},
   "outputs": [],
   "source": [
    "from tensorflow.examples.tutorials.mnist import input_data"
   ]
  },
  {
   "cell_type": "code",
   "execution_count": 83,
   "metadata": {},
   "outputs": [
    {
     "name": "stdout",
     "output_type": "stream",
     "text": [
      "Extracting MNIST_data/train-images-idx3-ubyte.gz\n",
      "Extracting MNIST_data/train-labels-idx1-ubyte.gz\n",
      "Extracting MNIST_data/t10k-images-idx3-ubyte.gz\n",
      "Extracting MNIST_data/t10k-labels-idx1-ubyte.gz\n"
     ]
    }
   ],
   "source": [
    "mnist = input_data.read_data_sets('MNIST_data/', one_hot=True)"
   ]
  },
  {
   "cell_type": "markdown",
   "metadata": {},
   "source": [
    "# Making the Helper Functions"
   ]
  },
  {
   "cell_type": "code",
   "execution_count": 84,
   "metadata": {},
   "outputs": [],
   "source": [
    "# Function to declare the tensor weights\n",
    "def init_weights(shape):\n",
    "    \n",
    "    init_random_dist = tf.truncated_normal(shape,stddev=0.1)\n",
    "    return tf.Variable(initial_value=init_random_dist)"
   ]
  },
  {
   "cell_type": "code",
   "execution_count": 85,
   "metadata": {},
   "outputs": [],
   "source": [
    "def init_bias(shape):\n",
    "    \n",
    "    init_bias = tf.constant(0.1, shape = shape)\n",
    "    return tf.Variable(initial_value=init_bias)"
   ]
  },
  {
   "cell_type": "code",
   "execution_count": 86,
   "metadata": {},
   "outputs": [],
   "source": [
    "# Function to do the convolution\n",
    "def conv2by2(x, W):\n",
    "    return tf.nn.conv2d(input=x,filter=W,strides=[1, 1, 1, 1],padding='SAME')"
   ]
  },
  {
   "cell_type": "code",
   "execution_count": 87,
   "metadata": {},
   "outputs": [],
   "source": [
    "# Function for pooling layer\n",
    "def pool2by2(x):\n",
    "    \n",
    "    return tf.nn.max_pool(x, ksize=[1, 2, 2, 1], strides=[1, 2, 2, 1], padding='SAME')"
   ]
  },
  {
   "cell_type": "code",
   "execution_count": 88,
   "metadata": {},
   "outputs": [],
   "source": [
    "# Funciton to make the convolution layers\n",
    "def convolution_layers(input_x,shape):\n",
    "    W = init_weights(shape)\n",
    "    b = init_bias([shape[3]])\n",
    "    \n",
    "    return tf.nn.relu(conv2by2(input_x, W) + b)"
   ]
  },
  {
   "cell_type": "code",
   "execution_count": 96,
   "metadata": {},
   "outputs": [],
   "source": [
    "# Function for fully connected Neural Network Layers\n",
    "def normal_full_layer(input_layer,size):\n",
    "    input_size = int(input_layer.get_shape()[1])\n",
    "    W = init_weights([input_size, size])\n",
    "    b = init_bias([size])\n",
    "    return tf.matmul(input_layer,W) + b"
   ]
  },
  {
   "cell_type": "code",
   "execution_count": 106,
   "metadata": {},
   "outputs": [],
   "source": [
    "# Making the placeholders\n",
    "x = tf.placeholder(tf.float32, shape=[None,784])\n",
    "y_true = tf.placeholder(tf.float32, shape=[None,10])"
   ]
  },
  {
   "cell_type": "markdown",
   "metadata": {},
   "source": [
    "# Making the Layers"
   ]
  },
  {
   "cell_type": "code",
   "execution_count": 107,
   "metadata": {},
   "outputs": [],
   "source": [
    "# we need to reshape every input image\n",
    "x_image = tf.reshape(x, shape=[-1,28,28,1])"
   ]
  },
  {
   "cell_type": "code",
   "execution_count": 108,
   "metadata": {},
   "outputs": [],
   "source": [
    "# convolution layer 1\n",
    "convo_1 = convolution_layers(x_image,shape=[6,6,1,44])\n",
    "convo_1_pooling = pool2by2(convo_1)"
   ]
  },
  {
   "cell_type": "code",
   "execution_count": 109,
   "metadata": {},
   "outputs": [],
   "source": [
    "# convolution Layer 2\n",
    "convo_2 = convolution_layers(convo_1_pooling,[4,4,44,88])\n",
    "convo_2_pooling = pool2by2(convo_2)"
   ]
  },
  {
   "cell_type": "code",
   "execution_count": 110,
   "metadata": {},
   "outputs": [],
   "source": [
    "# flattening the output for feeding in the ANN\n",
    "convo_2_flat = tf.reshape(convo_2_pooling,shape=[-1,7*7*88])"
   ]
  },
  {
   "cell_type": "code",
   "execution_count": 111,
   "metadata": {},
   "outputs": [],
   "source": [
    "# making first full layer\n",
    "full_layer_one = tf.nn.relu(normal_full_layer(convo_2_flat,1024))"
   ]
  },
  {
   "cell_type": "code",
   "execution_count": 112,
   "metadata": {},
   "outputs": [],
   "source": [
    "# Making the Dropout function\n",
    "hold_prob = tf.placeholder(tf.float32)\n",
    "full_dropout_one = tf.nn.dropout(full_layer_one, keep_prob=hold_prob)"
   ]
  },
  {
   "cell_type": "code",
   "execution_count": 113,
   "metadata": {},
   "outputs": [],
   "source": [
    "# making the final predictions through the neural networks\n",
    "y_pred = normal_full_layer(full_dropout_one,10)"
   ]
  },
  {
   "cell_type": "markdown",
   "metadata": {},
   "source": [
    "# Making Loss Functions and Session"
   ]
  },
  {
   "cell_type": "code",
   "execution_count": 114,
   "metadata": {},
   "outputs": [],
   "source": [
    "# Loss Function\n",
    "cross_entropy = tf.reduce_mean(tf.nn.softmax_cross_entropy_with_logits(labels = y_true, logits=y_pred))"
   ]
  },
  {
   "cell_type": "code",
   "execution_count": 115,
   "metadata": {},
   "outputs": [],
   "source": [
    "# making the optimizer\n",
    "optimizer = tf.train.AdamOptimizer(learning_rate=0.001)"
   ]
  },
  {
   "cell_type": "code",
   "execution_count": 116,
   "metadata": {},
   "outputs": [],
   "source": [
    "train = optimizer.minimize(cross_entropy)"
   ]
  },
  {
   "cell_type": "code",
   "execution_count": 131,
   "metadata": {},
   "outputs": [],
   "source": [
    "saver = tf.train.Saver()"
   ]
  },
  {
   "cell_type": "code",
   "execution_count": 134,
   "metadata": {},
   "outputs": [
    {
     "name": "stdout",
     "output_type": "stream",
     "text": [
      "At step 0\n",
      "Accuracy on testing set is: \n",
      "0.2043\n",
      "\n",
      "\n"
     ]
    }
   ],
   "source": [
    "# Making the sesssion and Running\n",
    "init = tf.global_variables_initializer()\n",
    "\n",
    "with tf.Session() as sess:\n",
    "    sess.run(init)\n",
    "    \n",
    "    steps = 100\n",
    "    for i in range(steps):\n",
    "        \n",
    "        batch_x, batch_y = mnist.train.next_batch(444)\n",
    "        \n",
    "        sess.run(train, feed_dict = {y_true: batch_y, hold_prob:0.5, x: batch_x})\n",
    "        \n",
    "        saver.save(sess,'models/My_MNIST_with_CNN.ckpt')\n",
    "        \n",
    "        if i%100==0:\n",
    "            print(\"At step {}\".format(i))\n",
    "            print(\"Accuracy on testing set is: \")\n",
    "            \n",
    "            # testing the full test set\n",
    "            evaluate = tf.equal(tf.argmax(y_true,axis=1), tf.argmax(y_pred, axis=1))\n",
    "            acc = tf.reduce_mean(tf.cast(evaluate,tf.float32))\n",
    "            print(sess.run(acc, feed_dict={y_true:mnist.test.labels, x:mnist.test.images, hold_prob:1.0}))\n",
    "            print(\"\\n\")"
   ]
  },
  {
   "cell_type": "code",
   "execution_count": null,
   "metadata": {},
   "outputs": [],
   "source": []
  }
 ],
 "metadata": {
  "kernelspec": {
   "display_name": "Python 3",
   "language": "python",
   "name": "python3"
  },
  "language_info": {
   "codemirror_mode": {
    "name": "ipython",
    "version": 3
   },
   "file_extension": ".py",
   "mimetype": "text/x-python",
   "name": "python",
   "nbconvert_exporter": "python",
   "pygments_lexer": "ipython3",
   "version": "3.5.6"
  }
 },
 "nbformat": 4,
 "nbformat_minor": 2
}
